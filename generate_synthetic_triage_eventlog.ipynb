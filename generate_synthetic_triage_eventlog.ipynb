{
 "cells": [
  {
   "cell_type": "markdown",
   "id": "23b4056c-9a88-4082-a99e-a9fe87eb7709",
   "metadata": {},
   "source": [
    "# Triage Room Process Simulation: Generate Synthetic Event Log"
   ]
  },
  {
   "cell_type": "code",
   "execution_count": 1,
   "id": "3574c8fb-4bb9-4a95-99eb-d2d1ad67c22b",
   "metadata": {},
   "outputs": [],
   "source": [
    "import pandas as pd\n",
    "import numpy as np\n",
    "from datetime import datetime, timedelta\n",
    "import random\n",
    "from IPython.display import FileLink"
   ]
  },
  {
   "cell_type": "markdown",
   "id": "df8522b7-ab28-47f5-ba2e-3dd3d21b54b6",
   "metadata": {},
   "source": [
    "## Define Process Activity"
   ]
  },
  {
   "cell_type": "code",
   "execution_count": 2,
   "id": "f20fbe54-441b-4fcd-ba3c-5db7afd03a74",
   "metadata": {},
   "outputs": [],
   "source": [
    "# Define process events/activity Labels\n",
    "activities = ['A', 'B', 'C', 'D', 'E', 'F', 'G', 'H', 'I']\n",
    "\n",
    "# Define human-readable labels for each activity\n",
    "activity_labels = {\n",
    "    'A': 'Initial Assessment',\n",
    "    'B': 'Immediate CPR',\n",
    "    'C': 'Stabilization and Monitoring',\n",
    "    'D': 'Doctors Assessment',\n",
    "    'E': 'Further Diagnostics and Imaging',\n",
    "    'F': 'Transfer to Surgery or Advanced Treatment',\n",
    "    'G': 'Treatment and Monitor Conditions',\n",
    "    'H': 'Transfer to the ICU',\n",
    "    'I': 'Discharge'\n",
    "}"
   ]
  },
  {
   "cell_type": "markdown",
   "id": "16fe9de4-7077-4b8e-94c1-ff87e1fa4154",
   "metadata": {},
   "source": [
    "## Simulate Patient Event Attributes\n",
    "Define Helper Functions"
   ]
  },
  {
   "cell_type": "code",
   "execution_count": 3,
   "id": "67ec6b92-de6c-4318-a380-b56a2723d8e6",
   "metadata": {},
   "outputs": [],
   "source": [
    "def generate_patient_attributes():\n",
    "    # Simulate vitals for accident victims (more likely to be abnormal)\n",
    "\n",
    "    heart_rate = int(np.random.normal(loc=110, scale=20))  # normal ~60–100 bpm\n",
    "    oxygen_saturation = round(np.random.normal(loc=88, scale=5), 1)  # normal 95–100%\n",
    "\n",
    "    # Generate systolic/diastolic blood pressure\n",
    "    systolic = int(np.random.normal(loc=100, scale=15))  # normal ~120\n",
    "    diastolic = int(np.random.normal(loc=65, scale=10))  # normal ~80\n",
    "    blood_pressure = f\"{systolic}/{diastolic}\"\n",
    "\n",
    "    # Age range between 18–90, centered around 45\n",
    "    age = int(np.clip(np.random.normal(loc=45, scale=18), 18, 90))\n",
    "\n",
    "    # Determine consciousness level based on critical vital signs\n",
    "    if oxygen_saturation < 85 or heart_rate > 140 or systolic < 80:\n",
    "        consciousness = 'Unconscious'\n",
    "    elif oxygen_saturation < 90 or heart_rate > 120 or systolic < 90:\n",
    "        consciousness = 'Drowsy'\n",
    "    elif oxygen_saturation < 93 or heart_rate > 110 or systolic < 100:\n",
    "        consciousness = 'Lethargic'\n",
    "    else:\n",
    "        consciousness = 'Alert'\n",
    "\n",
    "    # Random imaging result\n",
    "    imaging_result = random.choice([\n",
    "        \"No Critical Injury Found\",\n",
    "        \"Confirmed Critical Injury\"\n",
    "    ])\n",
    "\n",
    "    return {\n",
    "        'Heart_Rate': heart_rate,\n",
    "        'Oxygen_Saturation': oxygen_saturation,\n",
    "        'Blood_Pressure': blood_pressure,\n",
    "        'Age': age,\n",
    "        'Consciousness_Level': consciousness,\n",
    "        'Imaging_Results': imaging_result\n",
    "    }\n",
    "\n",
    "\n",
    "# ------------------------------\n",
    "# Calculate Patient Health Indicator (PHI)\n",
    "# ------------------------------\n",
    "\n",
    "def calculate_phi(attributes):\n",
    "    # Extract key vitals\n",
    "    hr = attributes['Heart_Rate']\n",
    "    ox = attributes['Oxygen_Saturation']\n",
    "    bp = attributes['Blood_Pressure']\n",
    "    cons = attributes['Consciousness_Level']\n",
    "    systolic = int(bp.split('/')[0])\n",
    "\n",
    "    # classification of patient status\n",
    "    if cons == 'Unconscious' or ox < 85 or systolic < 80:\n",
    "        return 'Life-Threatening'\n",
    "    elif cons == 'Drowsy' or ox < 90 or hr > 130 or systolic < 90:\n",
    "        return 'Critical'\n",
    "    elif cons == 'Lethargic' or hr > 110 or ox < 94:\n",
    "        return 'Deteriorating'\n",
    "    else:\n",
    "        return 'Stable'\n"
   ]
  },
  {
   "cell_type": "markdown",
   "id": "f6e50f6f-f6ec-4d07-b8a2-f5e33e23f43b",
   "metadata": {},
   "source": [
    "## Define Routing Logic"
   ]
  },
  {
   "cell_type": "code",
   "execution_count": 4,
   "id": "88b68dbe-efce-41da-b94e-b4abefb73c91",
   "metadata": {},
   "outputs": [],
   "source": [
    "# Define the routing logic based on initial PHI and imaging results\n",
    "\n",
    "def generate_routing_path(phi_initial, imaging_result):\n",
    "    # Initialize the path starting from activity A\n",
    "    path = [('A', phi_initial)]\n",
    "    phi = phi_initial   # Current PHI status (may change during process)\n",
    "    loop_count = 0\n",
    "    reached_E = False\n",
    "\n",
    "    # --- DP1: Decision after A ---\n",
    "    if phi in ['Stable', 'Deteriorating']:\n",
    "        # If PHI is relatively mild, follow path A → D → E\n",
    "        path.append(('D', phi))\n",
    "        path.append(('E', phi))\n",
    "        \n",
    "    elif phi in ['Critical', 'Life-Threatening']:\n",
    "        # If PHI is more severe, go to CPR and stabilization path: A → B → C\n",
    "        path.append(('B', phi))\n",
    "        path.append(('C', phi))\n",
    "        \n",
    "     # --- DP2: Decision Before E ---\n",
    "        if phi == 'Critical':\n",
    "            # After B → C, directly move to E\n",
    "            path.append(('E', phi))\n",
    "            reached_E = True\n",
    "\n",
    "        elif phi == 'Life-Threatening':\n",
    "            # For Life-Threatening patients, repeat B → C loop 1 to 4 times\n",
    "            max_loops = random.randint(1, 4)\n",
    "            for _ in range(max_loops):\n",
    "                path.append(('B', phi))\n",
    "                path.append(('C', phi))\n",
    "                \n",
    "            # After looping, assume the patient stabilizes slightly\n",
    "            phi = 'Critical'\n",
    "\n",
    "            # Continue through a final C → D → E path\n",
    "            path.append(('C', phi))  # Final C to separate from loop, and change phi\n",
    "            path.append(('D', phi))\n",
    "            path.append(('E', phi))\n",
    "            reached_E = True\n",
    "\n",
    "    # --- DP3: Decision after E ---\n",
    "    if phi in ['Critical', 'Deteriorating'] and imaging_result == \"Confirmed Critical Injury\":\n",
    "    # If serious condition + critical imaging → transfer to advanced treatment\n",
    "        path.append(('F', phi))\n",
    "    else:\n",
    "        # Otherwise → go to treatment and monitoring (G)\n",
    "        path.append(('G', phi))\n",
    "\n",
    "    # --- DP4: Decision after G ---\n",
    "    # Only apply this logic if the last activity was G\n",
    "    if path[-1][0] == 'G':\n",
    "        # If condition is still concerning, but no critical injury found → go to ICU (H)\n",
    "        if phi in ['Critical', 'Deteriorating'] and imaging_result == \"No Critical Injury Found\":\n",
    "            path.append(('H', phi))\n",
    "        else:\n",
    "            # Otherwise → patient is discharged (I)\n",
    "            path.append(('I', phi))\n",
    "\n",
    "    return path\n"
   ]
  },
  {
   "cell_type": "markdown",
   "id": "65f9794b-f4e5-49e2-a640-7d5203c78b53",
   "metadata": {},
   "source": [
    "## Generate Event Log"
   ]
  },
  {
   "cell_type": "code",
   "execution_count": 5,
   "id": "3a965e0e-d4f4-4290-b8f2-8e82cfe141fe",
   "metadata": {},
   "outputs": [
    {
     "data": {
      "text/html": [
       "<a href='synthetic_triage_eventlog.csv' target='_blank'>synthetic_triage_eventlog.csv</a><br>"
      ],
      "text/plain": [
       "C:\\Users\\eelha081\\OneDrive - University of Ottawa\\GitHub\\sim2dm-triage\\synthetic_triage_eventlog.csv"
      ]
     },
     "execution_count": 5,
     "metadata": {},
     "output_type": "execute_result"
    }
   ],
   "source": [
    "# Initialize the event log\n",
    "event_log = []\n",
    "start_time = datetime(2025, 1, 1, 8, 0)  #  Define the starting timestamp for the simulation\n",
    "\n",
    "for case_num in range(1, 1001):  #  the number of cases in the simulation\n",
    "    #  Randomly assign a case start time within a 4-hour window\n",
    "    case_start = start_time + timedelta(minutes=random.randint(0, 240)) \n",
    "\n",
    "    # Generate a unique Case ID based on date + case number\n",
    "    case_id = f\"{case_start.strftime('%Y%m%d')}{case_num}\"\n",
    "\n",
    "    # Step 1: Generate patient attributes\n",
    "    attrs = generate_patient_attributes()\n",
    "\n",
    "    # Step 2: Calculate PHI status from attributes\n",
    "    phi = calculate_phi(attrs)\n",
    "\n",
    "    # Step 3: Assign imaging result for the case\n",
    "    imaging_result = attrs['Imaging_Results']\n",
    "\n",
    "    # Step 4: Generate the full process path (sequence of activities)\n",
    "    path = generate_routing_path(phi, imaging_result)\n",
    "\n",
    "    # Step 5: Simulate timestamps for each activity in the path\n",
    "    current_time = case_start\n",
    "    imaging_seen = False      # Flag to know when activity E (imaging) occurs\n",
    "\n",
    "    for activity, phi_event in path:\n",
    "        if activity == 'E':\n",
    "            imaging_seen = True    #  Imaging result is revealed after E\n",
    "\n",
    "         # Create event dictionary with all attributes and current activity\n",
    "        event = {\n",
    "            'Case ID': case_id,\n",
    "            'Activity': activity,\n",
    "            'Activity Label': activity_labels[activity],\n",
    "            'time:timestamp': current_time.isoformat(),\n",
    "            'Heart_Rate': attrs['Heart_Rate'],\n",
    "            'Oxygen_Saturation': attrs['Oxygen_Saturation'],\n",
    "            'Blood_Pressure': attrs['Blood_Pressure'],\n",
    "            'Age': attrs['Age'],\n",
    "            'Consciousness_Level': attrs['Consciousness_Level'],\n",
    "            'PHI': phi_event,\n",
    "            'Imaging_Results': imaging_result if imaging_seen else \"\"   # Hidden before E\n",
    "        }\n",
    "\n",
    "        # Add event to the log\n",
    "        event_log.append(event)\n",
    "\n",
    "        # Move to the next activity timestamp\n",
    "        current_time += timedelta(minutes=random.randint(5, 60))\n",
    "\n",
    "# Convert the event log to a  DataFrame\n",
    "df_event_log = pd.DataFrame(event_log)\n",
    "\n",
    "# Export the DataFrame to CSV\n",
    "csv_path = \"synthetic_triage_eventlog.csv\"\n",
    "df_event_log.to_csv(csv_path, index=False)\n",
    "\n",
    "# Show download link\n",
    "FileLink(csv_path)"
   ]
  },
  {
   "cell_type": "markdown",
   "id": "6ab30f5f-6187-4280-8d59-2f297f71ca10",
   "metadata": {},
   "source": [
    "## Process Case and Variants Analysis"
   ]
  },
  {
   "cell_type": "code",
   "execution_count": 6,
   "id": "79fd9a17-3868-47ca-b5a6-2590bc26e3a8",
   "metadata": {},
   "outputs": [
    {
     "name": "stdout",
     "output_type": "stream",
     "text": [
      "202501011: A → B → C → E → G → H\n",
      "2025010110: A → B → C → E → G → H\n",
      "20250101100: A → B → C → E → G → H\n",
      "202501011000: A → B → C → B → C → B → C → B → C → C → D → E → G → H\n",
      "20250101101: A → B → C → B → C → B → C → B → C → C → D → E → G → H\n",
      "20250101102: A → B → C → E → F\n",
      "20250101103: A → B → C → B → C → C → D → E → F\n",
      "20250101104: A → B → C → E → F\n",
      "20250101105: A → B → C → E → G → H\n",
      "20250101106: A → B → C → E → G → H\n",
      "20250101107: A → B → C → B → C → B → C → B → C → C → D → E → G → H\n",
      "20250101108: A → B → C → B → C → C → D → E → G → H\n",
      "20250101109: A → B → C → B → C → B → C → B → C → B → C → C → D → E → G → H\n",
      "2025010111: A → B → C → B → C → B → C → B → C → C → D → E → F\n",
      "20250101110: A → B → C → B → C → B → C → B → C → C → D → E → F\n",
      "20250101111: A → B → C → B → C → C → D → E → G → H\n",
      "20250101112: A → B → C → E → F\n",
      "20250101113: A → B → C → B → C → C → D → E → G → H\n",
      "20250101114: A → D → E → F\n",
      "20250101115: A → B → C → B → C → C → D → E → F\n"
     ]
    }
   ],
   "source": [
    "# Group event log by case ID and print activity sequences using → separator\n",
    "\n",
    "for i, (case_id, group) in enumerate(df_event_log.groupby(\"Case ID\")):\n",
    "    if i >= 20:\n",
    "        break\n",
    "    sequence = \" → \".join(group[\"Activity\"].tolist())\n",
    "    print(f\"{case_id}: {sequence}\")"
   ]
  },
  {
   "cell_type": "code",
   "execution_count": 7,
   "id": "9d2e6a2a-fa8a-47a5-a53f-03c22f8574c7",
   "metadata": {},
   "outputs": [
    {
     "name": "stdout",
     "output_type": "stream",
     "text": [
      "Unique Variants and Their Frequencies:\n",
      "\n",
      "Variant 1 (Cases: 219): A → B → C → E → G → H\n",
      "Variant 2 (Cases: 53): A → B → C → B → C → B → C → B → C → C → D → E → G → H\n",
      "Variant 3 (Cases: 221): A → B → C → E → F\n",
      "Variant 4 (Cases: 38): A → B → C → B → C → C → D → E → F\n",
      "Variant 5 (Cases: 53): A → B → C → B → C → C → D → E → G → H\n",
      "Variant 6 (Cases: 43): A → B → C → B → C → B → C → B → C → B → C → C → D → E → G → H\n",
      "Variant 7 (Cases: 45): A → B → C → B → C → B → C → B → C → C → D → E → F\n",
      "Variant 8 (Cases: 69): A → D → E → F\n",
      "Variant 9 (Cases: 49): A → B → C → B → C → B → C → B → C → B → C → C → D → E → F\n",
      "Variant 10 (Cases: 47): A → B → C → B → C → B → C → C → D → E → G → H\n",
      "Variant 11 (Cases: 81): A → D → E → G → H\n",
      "Variant 12 (Cases: 33): A → D → E → G → I\n",
      "Variant 13 (Cases: 49): A → B → C → B → C → B → C → C → D → E → F\n"
     ]
    }
   ],
   "source": [
    "# count unique activity sequences (process Variants)\n",
    "\n",
    "from collections import Counter\n",
    "\n",
    "# Step 1: Extract activity sequences per case\n",
    "variants = []\n",
    "\n",
    "for case_id, group in df_event_log.groupby(\"Case ID\"):\n",
    "    trace = \" → \".join(group[\"Activity\"].tolist())\n",
    "    variants.append(trace)\n",
    "\n",
    "# Step 2: Count unique variants\n",
    "variant_counts = Counter(variants)\n",
    "\n",
    "# Step 3: Print the variants and their frequencies\n",
    "print(\"Unique Variants and Their Frequencies:\\n\")\n",
    "for i, (variant, count) in enumerate(variant_counts.items(), 1):\n",
    "    \n",
    "    print(f\"Variant {i} (Cases: {count}): {variant}\")\n"
   ]
  },
  {
   "cell_type": "code",
   "execution_count": null,
   "id": "b17f2d3a-1ace-46f5-833f-c3c494778a9e",
   "metadata": {},
   "outputs": [],
   "source": []
  },
  {
   "cell_type": "code",
   "execution_count": null,
   "id": "5b26c770-6165-4b12-91c8-99f4e726f7e3",
   "metadata": {},
   "outputs": [],
   "source": []
  }
 ],
 "metadata": {
  "kernelspec": {
   "display_name": "Python 3 (ipykernel)",
   "language": "python",
   "name": "python3"
  },
  "language_info": {
   "codemirror_mode": {
    "name": "ipython",
    "version": 3
   },
   "file_extension": ".py",
   "mimetype": "text/x-python",
   "name": "python",
   "nbconvert_exporter": "python",
   "pygments_lexer": "ipython3",
   "version": "3.13.5"
  }
 },
 "nbformat": 4,
 "nbformat_minor": 5
}
