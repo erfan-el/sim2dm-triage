{
 "cells": [
  {
   "cell_type": "code",
   "execution_count": 1,
   "id": "d92df651-2974-4fe2-861d-9f28e5f27df2",
   "metadata": {},
   "outputs": [],
   "source": [
    "import pandas as pd\n",
    "import numpy as np \n"
   ]
  },
  {
   "cell_type": "code",
   "execution_count": 2,
   "id": "7d1341a7-b124-4b13-8f87-27201b5ca775",
   "metadata": {},
   "outputs": [
    {
     "name": "stdout",
     "output_type": "stream",
     "text": [
      "     Case ID Activity                    Activity Label       time:timestamp  \\\n",
      "0  202501011        A                Initial Assessment  2025-01-01T08:00:00   \n",
      "1  202501011        B                     Immediate CPR  2025-01-01T08:55:00   \n",
      "2  202501011        C      Stabilization and Monitoring  2025-01-01T09:49:00   \n",
      "3  202501011        E   Further Diagnostics and Imaging  2025-01-01T09:54:00   \n",
      "4  202501011        G  Treatment and Monitor Conditions  2025-01-01T10:32:00   \n",
      "5  202501011        H               Transfer to the ICU  2025-01-01T11:30:00   \n",
      "6  202501012        A                Initial Assessment  2025-01-01T10:03:00   \n",
      "7  202501012        B                     Immediate CPR  2025-01-01T10:46:00   \n",
      "8  202501012        C      Stabilization and Monitoring  2025-01-01T10:55:00   \n",
      "9  202501012        E   Further Diagnostics and Imaging  2025-01-01T11:04:00   \n",
      "\n",
      "   Heart_Rate  Oxygen_Saturation Blood_Pressure  Age Consciousness_Level  \\\n",
      "0          96               88.9          82/74   70              Drowsy   \n",
      "1          96               88.9          82/74   70              Drowsy   \n",
      "2          96               88.9          82/74   70              Drowsy   \n",
      "3          96               88.9          82/74   70              Drowsy   \n",
      "4          96               88.9          82/74   70              Drowsy   \n",
      "5          96               88.9          82/74   70              Drowsy   \n",
      "6         137               87.7          85/57   50              Drowsy   \n",
      "7         137               87.7          85/57   50              Drowsy   \n",
      "8         137               87.7          85/57   50              Drowsy   \n",
      "9         137               87.7          85/57   50              Drowsy   \n",
      "\n",
      "        PHI           Imaging_Results  \n",
      "0  Critical                       NaN  \n",
      "1  Critical                       NaN  \n",
      "2  Critical                       NaN  \n",
      "3  Critical  No Critical Injury Found  \n",
      "4  Critical  No Critical Injury Found  \n",
      "5  Critical  No Critical Injury Found  \n",
      "6  Critical                       NaN  \n",
      "7  Critical                       NaN  \n",
      "8  Critical                       NaN  \n",
      "9  Critical  No Critical Injury Found  \n"
     ]
    }
   ],
   "source": [
    "df = pd.read_csv(r'C:\\Users\\eelha081\\OneDrive - University of Ottawa\\GitHub\\sim2dm-triage\\synthetic_triage_eventlog.csv')\n",
    "print(df.head(10))"
   ]
  },
  {
   "cell_type": "code",
   "execution_count": 3,
   "id": "1491d8b5-54bb-421a-a23e-5233c8344120",
   "metadata": {},
   "outputs": [
    {
     "name": "stdout",
     "output_type": "stream",
     "text": [
      "Index(['Case ID', 'Activity', 'Activity Label', 'time:timestamp', 'Heart_Rate',\n",
      "       'Oxygen_Saturation', 'Blood_Pressure', 'Age', 'Consciousness_Level',\n",
      "       'PHI', 'Imaging_Results'],\n",
      "      dtype='object')\n"
     ]
    }
   ],
   "source": [
    "print(df.columns)"
   ]
  },
  {
   "cell_type": "code",
   "execution_count": 4,
   "id": "11836530-4746-418a-ab53-88d2a608edd1",
   "metadata": {},
   "outputs": [
    {
     "name": "stdout",
     "output_type": "stream",
     "text": [
      "     Case ID Activity                    Activity Label      time:timestamp  \\\n",
      "0  202501011        A                Initial Assessment 2025-01-01 08:00:00   \n",
      "1  202501011        B                     Immediate CPR 2025-01-01 08:55:00   \n",
      "2  202501011        C      Stabilization and Monitoring 2025-01-01 09:49:00   \n",
      "3  202501011        E   Further Diagnostics and Imaging 2025-01-01 09:54:00   \n",
      "4  202501011        G  Treatment and Monitor Conditions 2025-01-01 10:32:00   \n",
      "5  202501011        H               Transfer to the ICU 2025-01-01 11:30:00   \n",
      "6  202501012        A                Initial Assessment 2025-01-01 10:03:00   \n",
      "7  202501012        B                     Immediate CPR 2025-01-01 10:46:00   \n",
      "8  202501012        C      Stabilization and Monitoring 2025-01-01 10:55:00   \n",
      "9  202501012        E   Further Diagnostics and Imaging 2025-01-01 11:04:00   \n",
      "\n",
      "   Heart_Rate  Oxygen_Saturation Blood_Pressure  Age Consciousness_Level  \\\n",
      "0          96               88.9          82/74   70              Drowsy   \n",
      "1          96               88.9          82/74   70              Drowsy   \n",
      "2          96               88.9          82/74   70              Drowsy   \n",
      "3          96               88.9          82/74   70              Drowsy   \n",
      "4          96               88.9          82/74   70              Drowsy   \n",
      "5          96               88.9          82/74   70              Drowsy   \n",
      "6         137               87.7          85/57   50              Drowsy   \n",
      "7         137               87.7          85/57   50              Drowsy   \n",
      "8         137               87.7          85/57   50              Drowsy   \n",
      "9         137               87.7          85/57   50              Drowsy   \n",
      "\n",
      "        PHI           Imaging_Results DP1_label DP2_label DP3_label DP4_label  \n",
      "0  Critical                       NaN         B         E         G         H  \n",
      "1  Critical                       NaN         B         E         G         H  \n",
      "2  Critical                       NaN         B         E         G         H  \n",
      "3  Critical  No Critical Injury Found         B         E         G         H  \n",
      "4  Critical  No Critical Injury Found         B         E         G         H  \n",
      "5  Critical  No Critical Injury Found         B         E         G         H  \n",
      "6  Critical                       NaN         B         E         G         H  \n",
      "7  Critical                       NaN         B         E         G         H  \n",
      "8  Critical                       NaN         B         E         G         H  \n",
      "9  Critical  No Critical Injury Found         B         E         G         H  \n"
     ]
    }
   ],
   "source": [
    "# Step 1: Ensure timestamp column is in datetime format and sort the DataFrame\n",
    "df['time:timestamp'] = pd.to_datetime(df['time:timestamp'])\n",
    "df = df.sort_values(by=['Case ID', 'time:timestamp'])\n",
    "\n",
    "# Step 2: Define helper function for getting the first activity after a target\n",
    "def get_next_after(activity_list, target):\n",
    "    for i in range(len(activity_list) - 1):\n",
    "        if activity_list[i] == target:\n",
    "            return activity_list[i + 1]\n",
    "    return None\n",
    "\n",
    "# Step 3: Initialize label dictionaries\n",
    "dp1_labels = {}\n",
    "dp2_label_dict = {}\n",
    "dp3_labels = {}\n",
    "dp4_labels = {}\n",
    "\n",
    "# Step 4: Group and process each case\n",
    "grouped = df.groupby('Case ID')\n",
    "\n",
    "for case_id, group in grouped:\n",
    "    activities = list(group['Activity'].values)\n",
    "    indices = group.index.tolist()\n",
    "\n",
    "    # DP1: first activity after A\n",
    "    dp1_labels[case_id] = get_next_after(activities, 'A')\n",
    "\n",
    "    # DP3: first activity after E\n",
    "    dp3_labels[case_id] = get_next_after(activities, 'E')\n",
    "\n",
    "    # DP4: first activity after G\n",
    "    dp4_labels[case_id] = get_next_after(activities, 'G')\n",
    "\n",
    "    # DP2: new logic based on behavior before first E\n",
    "    try:\n",
    "        e_index = activities.index('E')\n",
    "        activities_before_e = activities[:e_index]\n",
    "        indices_before_e = indices[:e_index]\n",
    "    except ValueError:\n",
    "        # No E in this case → skip\n",
    "        continue\n",
    "\n",
    "    c_count = activities_before_e.count('C')\n",
    "    d_count = activities_before_e.count('D')\n",
    "    total_cd = c_count + d_count\n",
    "\n",
    "    case_labels = [''] * len(activities)\n",
    "\n",
    "    if total_cd == 1:\n",
    "        # Case 1: only one C or D → label all rows with E\n",
    "        case_labels = ['E'] * len(activities)\n",
    "    else:\n",
    "        # Case 2: multiple C/D → label based on next activity\n",
    "        last_cd_index = -1\n",
    "        for i in range(len(activities_before_e)):\n",
    "            act = activities_before_e[i]\n",
    "            if act == 'C':\n",
    "                if i + 1 < len(activities_before_e):\n",
    "                    next_act = activities_before_e[i + 1]\n",
    "                    if next_act == 'B':\n",
    "                        case_labels[i] = 'B'\n",
    "                    elif next_act == 'C':\n",
    "                        case_labels[i] = 'C'\n",
    "                    elif next_act == 'D':\n",
    "                        case_labels[i] = 'D'\n",
    "                last_cd_index = i\n",
    "            elif act == 'D':\n",
    "                case_labels[i] = 'E'\n",
    "                last_cd_index = i\n",
    "\n",
    "        # Add E after last C/D if possible\n",
    "        if last_cd_index >= 0 and last_cd_index + 1 < len(activities):\n",
    "            case_labels[last_cd_index + 1] = 'E'\n",
    "\n",
    "    # Store the DP2 values for this case\n",
    "    for idx, label in zip(indices, case_labels):\n",
    "        dp2_label_dict[idx] = label\n",
    "\n",
    "# Step 5: Assign all DP labels back to the dataframe\n",
    "df['DP1_label'] = df['Case ID'].map(dp1_labels)\n",
    "df['DP2_label'] = df.index.map(dp2_label_dict)\n",
    "df['DP3_label'] = df['Case ID'].map(dp3_labels)\n",
    "df['DP4_label'] = df['Case ID'].map(dp4_labels)\n",
    "\n",
    "# Step 6: Forward-fill DP2_label within each case\n",
    "df['DP2_label'] = df['DP2_label'].replace('', np.nan)\n",
    "df['DP2_label'] = df.groupby('Case ID')['DP2_label'].ffill()\n",
    "\n",
    "# Step 7: Print first 10 rows\n",
    "print(df.head(10))"
   ]
  },
  {
   "cell_type": "code",
   "execution_count": 5,
   "id": "e8001e63-e796-452e-a89b-a610f204fe62",
   "metadata": {},
   "outputs": [
    {
     "data": {
      "text/html": [
       "<a href='labeled_triage_eventlog.csv' target='_blank'>labeled_triage_eventlog.csv</a><br>"
      ],
      "text/plain": [
       "C:\\Users\\eelha081\\OneDrive - University of Ottawa\\GitHub\\sim2dm-triage\\labeled_triage_eventlog.csv"
      ]
     },
     "execution_count": 5,
     "metadata": {},
     "output_type": "execute_result"
    }
   ],
   "source": [
    "# Save to CSV\n",
    "df.to_csv(\"labeled_triage_eventlog.csv\", index=False)\n",
    "\n",
    "from IPython.display import FileLink\n",
    "FileLink(\"labeled_triage_eventlog.csv\")"
   ]
  },
  {
   "cell_type": "code",
   "execution_count": null,
   "id": "cfdb9c86-28d9-4224-ad5b-b8c687cd31da",
   "metadata": {},
   "outputs": [],
   "source": []
  }
 ],
 "metadata": {
  "kernelspec": {
   "display_name": "Python 3 (ipykernel)",
   "language": "python",
   "name": "python3"
  },
  "language_info": {
   "codemirror_mode": {
    "name": "ipython",
    "version": 3
   },
   "file_extension": ".py",
   "mimetype": "text/x-python",
   "name": "python",
   "nbconvert_exporter": "python",
   "pygments_lexer": "ipython3",
   "version": "3.13.5"
  }
 },
 "nbformat": 4,
 "nbformat_minor": 5
}
